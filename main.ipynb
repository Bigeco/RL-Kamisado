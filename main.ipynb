{
 "cells": [
  {
   "cell_type": "markdown",
   "metadata": {},
   "source": [
    "### Settings"
   ]
  },
  {
   "cell_type": "code",
   "execution_count": 1,
   "metadata": {},
   "outputs": [],
   "source": [
    "import gymnasium as gym\n",
    "import numpy as np"
   ]
  },
  {
   "cell_type": "code",
   "execution_count": 3,
   "metadata": {},
   "outputs": [
    {
     "name": "stderr",
     "output_type": "stream",
     "text": [
      "c:\\Users\\haha0\\AppData\\Local\\Programs\\Python\\Python310\\lib\\site-packages\\gymnasium\\envs\\registration.py:673: UserWarning: \u001b[33mWARN: `gymnasium.register(..., autoreset=True)` is deprecated and will be removed in v1.0. If users wish to use it then add the auto reset wrapper in the `addition_wrappers` argument.\u001b[0m\n",
      "  logger.warn(\n"
     ]
    }
   ],
   "source": [
    "import gym_kamisado"
   ]
  },
  {
   "cell_type": "code",
   "execution_count": 4,
   "metadata": {},
   "outputs": [
    {
     "name": "stderr",
     "output_type": "stream",
     "text": [
      "c:\\Users\\haha0\\AppData\\Local\\Programs\\Python\\Python310\\lib\\site-packages\\gymnasium\\envs\\registration.py:877: UserWarning: \u001b[33mWARN: `gymnasium.make(..., autoreset=True)` is deprecated and will be removed in v1.0\u001b[0m\n",
      "  logger.warn(\n"
     ]
    }
   ],
   "source": [
    "env = gym.make('Kamisado-v0', render_mode=\"rgb_array\")"
   ]
  },
  {
   "cell_type": "code",
   "execution_count": 6,
   "metadata": {},
   "outputs": [
    {
     "data": {
      "text/plain": [
       "(array([ 7,  6,  5,  4,  3,  2,  1,  0,  8,  8,  8,  8,  8,  8,  8,  8,  8,\n",
       "         8,  8,  8,  8,  8,  8,  8,  8,  8,  8,  8,  8,  8,  8,  8,  8,  8,\n",
       "         8,  8,  8,  8,  8,  8,  8,  8,  8,  8,  8,  8,  8,  8,  8,  8,  8,\n",
       "         8,  8,  8,  8,  8, 16, 15, 14, 13, 12, 11, 10,  9,  0],\n",
       "       dtype=int64),\n",
       " {'current_player': 0,\n",
       "  'board': array([[-1, -2, -3, -4, -5, -6, -7, -8],\n",
       "         [ 0,  0,  0,  0,  0,  0,  0,  0],\n",
       "         [ 0,  0,  0,  0,  0,  0,  0,  0],\n",
       "         [ 0,  0,  0,  0,  0,  0,  0,  0],\n",
       "         [ 0,  0,  0,  0,  0,  0,  0,  0],\n",
       "         [ 0,  0,  0,  0,  0,  0,  0,  0],\n",
       "         [ 0,  0,  0,  0,  0,  0,  0,  0],\n",
       "         [ 8,  7,  6,  5,  4,  3,  2,  1]], dtype=int64)})"
      ]
     },
     "execution_count": 6,
     "metadata": {},
     "output_type": "execute_result"
    }
   ],
   "source": [
    "env.reset()"
   ]
  },
  {
   "cell_type": "code",
   "execution_count": 7,
   "metadata": {},
   "outputs": [
    {
     "data": {
      "text/plain": [
       "array([[[255, 153,   0],\n",
       "        [255, 153,   0],\n",
       "        [255, 153,   0],\n",
       "        ...,\n",
       "        [102,  51,   0],\n",
       "        [102,  51,   0],\n",
       "        [102,  51,   0]],\n",
       "\n",
       "       [[255, 153,   0],\n",
       "        [255, 153,   0],\n",
       "        [255, 153,   0],\n",
       "        ...,\n",
       "        [102,  51,   0],\n",
       "        [102,  51,   0],\n",
       "        [102,  51,   0]],\n",
       "\n",
       "       [[255, 153,   0],\n",
       "        [255, 153,   0],\n",
       "        [255, 153,   0],\n",
       "        ...,\n",
       "        [102,  51,   0],\n",
       "        [102,  51,   0],\n",
       "        [102,  51,   0]],\n",
       "\n",
       "       ...,\n",
       "\n",
       "       [[102,  51,   0],\n",
       "        [102,  51,   0],\n",
       "        [102,  51,   0],\n",
       "        ...,\n",
       "        [255, 153,   0],\n",
       "        [255, 153,   0],\n",
       "        [255, 153,   0]],\n",
       "\n",
       "       [[102,  51,   0],\n",
       "        [102,  51,   0],\n",
       "        [102,  51,   0],\n",
       "        ...,\n",
       "        [255, 153,   0],\n",
       "        [255, 153,   0],\n",
       "        [255, 153,   0]],\n",
       "\n",
       "       [[102,  51,   0],\n",
       "        [102,  51,   0],\n",
       "        [102,  51,   0],\n",
       "        ...,\n",
       "        [255, 153,   0],\n",
       "        [255, 153,   0],\n",
       "        [255, 153,   0]]], dtype=uint8)"
      ]
     },
     "execution_count": 7,
     "metadata": {},
     "output_type": "execute_result"
    }
   ],
   "source": [
    "env.render()"
   ]
  },
  {
   "cell_type": "code",
   "execution_count": null,
   "metadata": {},
   "outputs": [],
   "source": []
  }
 ],
 "metadata": {
  "kernelspec": {
   "display_name": "Python 3",
   "language": "python",
   "name": "python3"
  },
  "language_info": {
   "codemirror_mode": {
    "name": "ipython",
    "version": 3
   },
   "file_extension": ".py",
   "mimetype": "text/x-python",
   "name": "python",
   "nbconvert_exporter": "python",
   "pygments_lexer": "ipython3",
   "version": "3.10.2"
  }
 },
 "nbformat": 4,
 "nbformat_minor": 2
}
